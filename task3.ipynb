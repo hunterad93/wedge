{
 "cells": [
  {
   "cell_type": "code",
   "execution_count": 9,
   "metadata": {},
   "outputs": [],
   "source": [
    "# Import necessary libraries\n",
    "from google.cloud import bigquery\n",
    "from google.oauth2 import service_account\n",
    "import pandas as pd\n",
    "import os\n",
    "\n",
    "# Define your service account file path and your project ID\n",
    "service_account_file = 'adamh-wedge-project-6f59b14d0763.json'\n",
    "project_id = 'adamh-wedge-project'\n",
    "\n",
    "# Define your credentials and your client\n",
    "credentials = service_account.Credentials.from_service_account_file(service_account_file)\n",
    "client = bigquery.Client(credentials=credentials, project=project_id)"
   ]
  },
  {
   "cell_type": "code",
   "execution_count": 10,
   "metadata": {},
   "outputs": [
    {
     "data": {
      "text/plain": [
       "39330"
      ]
     },
     "execution_count": 10,
     "metadata": {},
     "output_type": "execute_result"
    }
   ],
   "source": [
    "# SQL query to extract data\n",
    "sql_query = \"\"\"\n",
    "SELECT DATE(datetime) as date, \n",
    "       EXTRACT(HOUR FROM datetime) as hour, \n",
    "       SUM(total) as total_spend, \n",
    "       COUNT(DISTINCT CONCAT(CAST(datetime AS STRING), CAST(register_no AS STRING), CAST(emp_no AS STRING), CAST(trans_no AS STRING))) as transactions, \n",
    "       SUM(CASE WHEN trans_status IN ('V', 'R') THEN -1 ELSE 1 END) as items\n",
    "FROM `adamh-wedge-project.wedge_transactions.*`\n",
    "WHERE department NOT IN (0, 15) AND (trans_status IS NULL OR trans_status IN (' ','', 'V', 'R'))\n",
    "GROUP BY date, hour\n",
    "ORDER BY date, hour\n",
    "\"\"\"\n",
    "df_date_hour = client.query(sql_query).to_dataframe()\n",
    "\n",
    "# Create SQLite table\n",
    "import sqlite3\n",
    "\n",
    "# Check if the database file exists and delete it if it does\n",
    "if os.path.exists('sales.db'):\n",
    "    os.remove('sales.db')\n",
    "\n",
    "# Create a new SQLite database and connection\n",
    "conn = sqlite3.connect('sales.db')\n",
    "\n",
    "# Write the DataFrame to a new SQLite table\n",
    "df_date_hour.to_sql('sales_by_date_by_hour', conn, if_exists='replace', index=False)"
   ]
  },
  {
   "cell_type": "code",
   "execution_count": 11,
   "metadata": {},
   "outputs": [
    {
     "data": {
      "text/plain": [
       "808893"
      ]
     },
     "execution_count": 11,
     "metadata": {},
     "output_type": "execute_result"
    }
   ],
   "source": [
    "# SQL query to extract data\n",
    "sql_query = \"\"\"\n",
    "SELECT card_no, \n",
    "       EXTRACT(YEAR FROM datetime) as year, \n",
    "       EXTRACT(MONTH FROM datetime) as month, \n",
    "       SUM(total) as sales, \n",
    "       COUNT(DISTINCT CONCAT(CAST(datetime AS STRING), CAST(register_no AS STRING), CAST(emp_no AS STRING), CAST(trans_no AS STRING))) as transactions, \n",
    "       SUM(CASE WHEN trans_status IN ('V', 'R') THEN -1 ELSE 1 END) as items\n",
    "FROM `adamh-wedge-project.wedge_transactions.*`\n",
    "WHERE department NOT IN (0, 15) AND (trans_status IS NULL OR trans_status IN (' ','', 'V', 'R'))\n",
    "GROUP BY card_no, year, month\n",
    "ORDER BY card_no, year, month\n",
    "\"\"\"\n",
    "df_owner_year_month = client.query(sql_query).to_dataframe()\n",
    "\n",
    "# Create SQLite table\n",
    "df_owner_year_month.to_sql('sales_by_owner_by_year_by_month', conn, if_exists='replace', index=False)"
   ]
  },
  {
   "cell_type": "code",
   "execution_count": 12,
   "metadata": {},
   "outputs": [],
   "source": [
    "# SQL query to extract data\n",
    "sql_query = \"\"\"\n",
    "SELECT upc, \n",
    "       description, \n",
    "       department, \n",
    "       EXTRACT(YEAR FROM datetime) as year, \n",
    "       EXTRACT(MONTH FROM datetime) as month, \n",
    "       SUM(total) as sales, \n",
    "       COUNT(DISTINCT CONCAT(CAST(datetime AS STRING), CAST(register_no AS STRING), CAST(emp_no AS STRING), CAST(trans_no AS STRING))) as transactions, \n",
    "       SUM(CASE WHEN trans_status IN ('V', 'R') THEN -1 ELSE 1 END) as items\n",
    "FROM `adamh-wedge-project.wedge_transactions.*`\n",
    "WHERE department NOT IN (0, 15) AND (trans_status IS NULL OR trans_status IN (' ','', 'V', 'R'))\n",
    "GROUP BY upc, description, department, year, month\n",
    "ORDER BY upc, description, department, year, month\n",
    "\"\"\"\n",
    "df_product_year_month = client.query(sql_query).to_dataframe()\n",
    "\n",
    "# Create SQLite table\n",
    "df_product_year_month.to_sql('sales_by_product_by_year_by_month', conn, if_exists='replace', index=False)\n",
    "\n",
    "# Close the connection\n",
    "conn.close()"
   ]
  }
 ],
 "metadata": {
  "kernelspec": {
   "display_name": "craigslist-env",
   "language": "python",
   "name": "python3"
  },
  "language_info": {
   "codemirror_mode": {
    "name": "ipython",
    "version": 3
   },
   "file_extension": ".py",
   "mimetype": "text/x-python",
   "name": "python",
   "nbconvert_exporter": "python",
   "pygments_lexer": "ipython3",
   "version": "3.9.16"
  }
 },
 "nbformat": 4,
 "nbformat_minor": 2
}
