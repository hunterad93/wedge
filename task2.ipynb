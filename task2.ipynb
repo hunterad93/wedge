{
 "cells": [
  {
   "cell_type": "code",
   "execution_count": 12,
   "metadata": {},
   "outputs": [],
   "source": [
    "# Import necessary libraries\n",
    "from google.cloud import bigquery\n",
    "from google.oauth2 import service_account\n",
    "import pandas as pd\n",
    "\n",
    "# Define your service account file path and your project ID\n",
    "service_account_file = 'adamh-wedge-project-6f59b14d0763.json'\n",
    "project_id = 'adamh-wedge-project'\n",
    "\n",
    "# Define your credentials and your client\n",
    "credentials = service_account.Credentials.from_service_account_file(service_account_file)\n",
    "client = bigquery.Client(credentials=credentials, project=project_id)\n",
    "\n",
    "# Define your dataset and table\n",
    "dataset_id = 'wedge_transactions'\n",
    "table_id = 'trans*'\n",
    "\n",
    "# Build a SQL query to get a list of unique owners excluding card_no==3.0\n",
    "sql_query = f\"\"\"\n",
    "SELECT DISTINCT card_no\n",
    "FROM `{project_id}.{dataset_id}.{table_id}`\n",
    "where card_no != 3.0\n",
    "\"\"\"\n",
    "\n",
    "# Execute the query\n",
    "query_job = client.query(sql_query)\n",
    "\n",
    "# Convert the query job into a DataFrame\n",
    "df_owners = query_job.to_dataframe()\n"
   ]
  },
  {
   "cell_type": "code",
   "execution_count": 13,
   "metadata": {},
   "outputs": [
    {
     "name": "stdout",
     "output_type": "stream",
     "text": [
      "Number of unique owners in the sample: 450\n",
      "Size of the CSV file: 228.30 MB\n"
     ]
    }
   ],
   "source": [
    "# Take a sample of the owners\n",
    "sample_size = 450  # Adjust this value as needed\n",
    "random_seed = 42  # Set a random seed\n",
    "df_sample_owners = df_owners.sample(n=sample_size, random_state=random_seed)\n",
    "\n",
    "# For each owner in the sample, get all their records\n",
    "df_records = pd.DataFrame()\n",
    "\n",
    "# Create a string of unique card numbers separated by commas\n",
    "card_no_string = ', '.join(map(str, df_sample_owners['card_no'].tolist()))\n",
    "\n",
    "# Build a SQL query to get all records for the owners in the sample\n",
    "sql_query = f\"\"\"\n",
    "SELECT *\n",
    "FROM `{project_id}.{dataset_id}.{table_id}`\n",
    "WHERE card_no IN ({card_no_string})\n",
    "\"\"\"\n",
    "\n",
    "# Execute the query and convert the result into a DataFrame\n",
    "df_records = client.query(sql_query).to_dataframe()\n",
    "\n",
    "# Print the count of unique owners in the sample\n",
    "print(f\"Number of unique owners in the sample: {len(df_sample_owners)}\")\n",
    "\n",
    "# Save the records to a CSV file\n",
    "csv_file = 'sample_owner_records.csv'\n",
    "df_records.to_csv(csv_file, index=False)\n",
    "\n",
    "import os\n",
    "\n",
    "# Calculate the size of the CSV file in MB\n",
    "file_size_MB = os.path.getsize(csv_file) / (1024 * 1024)\n",
    "\n",
    "# Print the size of the CSV file\n",
    "print(f\"Size of the CSV file: {file_size_MB:.2f} MB\")"
   ]
  }
 ],
 "metadata": {
  "kernelspec": {
   "display_name": "streamlitenv",
   "language": "python",
   "name": "python3"
  },
  "language_info": {
   "codemirror_mode": {
    "name": "ipython",
    "version": 3
   },
   "file_extension": ".py",
   "mimetype": "text/x-python",
   "name": "python",
   "nbconvert_exporter": "python",
   "pygments_lexer": "ipython3",
   "version": "3.9.16"
  }
 },
 "nbformat": 4,
 "nbformat_minor": 2
}
